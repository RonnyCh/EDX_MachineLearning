{
 "cells": [
  {
   "cell_type": "code",
   "execution_count": 10,
   "metadata": {
    "collapsed": true
   },
   "outputs": [],
   "source": [
    "library(dplyr)     #for some functions such as mutate\n",
    "library(dslabs)    # for some dataset such as murders"
   ]
  },
  {
   "cell_type": "code",
   "execution_count": 32,
   "metadata": {},
   "outputs": [
    {
     "data": {
      "text/html": [
       "5050"
      ],
      "text/latex": [
       "5050"
      ],
      "text/markdown": [
       "5050"
      ],
      "text/plain": [
       "[1] 5050"
      ]
     },
     "metadata": {},
     "output_type": "display_data"
    }
   ],
   "source": [
    "\n",
    "# Below, write code to calculate the sum of the first 100 integers\n",
    "\n",
    "n<-1:100\n",
    "sum(n)"
   ]
  },
  {
   "cell_type": "code",
   "execution_count": 33,
   "metadata": {},
   "outputs": [
    {
     "name": "stdout",
     "output_type": "stream",
     "text": [
      "'data.frame':\t51 obs. of  5 variables:\n",
      " $ state     : chr  \"Alabama\" \"Alaska\" \"Arizona\" \"Arkansas\" ...\n",
      " $ abb       : chr  \"AL\" \"AK\" \"AZ\" \"AR\" ...\n",
      " $ region    : Factor w/ 4 levels \"Northeast\",\"South\",..: 2 4 4 2 4 4 1 2 2 2 ...\n",
      " $ population: num  4779736 710231 6392017 2915918 37253956 ...\n",
      " $ total     : num  135 19 232 93 1257 ...\n"
     ]
    }
   ],
   "source": [
    "# find the structure of the table\n",
    "\n",
    "str(murders)"
   ]
  },
  {
   "cell_type": "code",
   "execution_count": 34,
   "metadata": {},
   "outputs": [
    {
     "data": {
      "text/html": [
       "<ol class=list-inline>\n",
       "\t<li>'state'</li>\n",
       "\t<li>'abb'</li>\n",
       "\t<li>'region'</li>\n",
       "\t<li>'population'</li>\n",
       "\t<li>'total'</li>\n",
       "</ol>\n"
      ],
      "text/latex": [
       "\\begin{enumerate*}\n",
       "\\item 'state'\n",
       "\\item 'abb'\n",
       "\\item 'region'\n",
       "\\item 'population'\n",
       "\\item 'total'\n",
       "\\end{enumerate*}\n"
      ],
      "text/markdown": [
       "1. 'state'\n",
       "2. 'abb'\n",
       "3. 'region'\n",
       "4. 'population'\n",
       "5. 'total'\n",
       "\n",
       "\n"
      ],
      "text/plain": [
       "[1] \"state\"      \"abb\"        \"region\"     \"population\" \"total\"     "
      ]
     },
     "metadata": {},
     "output_type": "display_data"
    }
   ],
   "source": [
    "# find column names\n",
    "\n",
    "names(murders)"
   ]
  },
  {
   "cell_type": "code",
   "execution_count": 38,
   "metadata": {},
   "outputs": [
    {
     "data": {
      "text/html": [
       "'numeric'"
      ],
      "text/latex": [
       "'numeric'"
      ],
      "text/markdown": [
       "'numeric'"
      ],
      "text/plain": [
       "[1] \"numeric\""
      ]
     },
     "metadata": {},
     "output_type": "display_data"
    }
   ],
   "source": [
    "# find the class of the column\n",
    "class(murders$total)"
   ]
  },
  {
   "cell_type": "code",
   "execution_count": 39,
   "metadata": {},
   "outputs": [
    {
     "data": {
      "text/html": [
       "TRUE"
      ],
      "text/latex": [
       "TRUE"
      ],
      "text/markdown": [
       "TRUE"
      ],
      "text/plain": [
       "[1] TRUE"
      ]
     },
     "metadata": {},
     "output_type": "display_data"
    }
   ],
   "source": [
    "# We extract the population like this:\n",
    "p <- murders$population\n",
    "\n",
    "# This is how we do the same with the square brackets:\n",
    "o <- murders[[\"population\"]] \n",
    "\n",
    "# We can confirm these two are the same\n",
    "identical(o, p)"
   ]
  },
  {
   "cell_type": "code",
   "execution_count": 43,
   "metadata": {},
   "outputs": [
    {
     "data": {
      "text/html": [
       "'factor'"
      ],
      "text/latex": [
       "'factor'"
      ],
      "text/markdown": [
       "'factor'"
      ],
      "text/plain": [
       "[1] \"factor\""
      ]
     },
     "metadata": {},
     "output_type": "display_data"
    },
    {
     "data": {
      "text/html": [
       "<ol class=list-inline>\n",
       "\t<li>'Northeast'</li>\n",
       "\t<li>'South'</li>\n",
       "\t<li>'North Central'</li>\n",
       "\t<li>'West'</li>\n",
       "</ol>\n"
      ],
      "text/latex": [
       "\\begin{enumerate*}\n",
       "\\item 'Northeast'\n",
       "\\item 'South'\n",
       "\\item 'North Central'\n",
       "\\item 'West'\n",
       "\\end{enumerate*}\n"
      ],
      "text/markdown": [
       "1. 'Northeast'\n",
       "2. 'South'\n",
       "3. 'North Central'\n",
       "4. 'West'\n",
       "\n",
       "\n"
      ],
      "text/plain": [
       "[1] \"Northeast\"     \"South\"         \"North Central\" \"West\"         "
      ]
     },
     "metadata": {},
     "output_type": "display_data"
    }
   ],
   "source": [
    "#if a class is a factor(category) then you can use levels to see the grouping\n",
    "class(murders$region)\n",
    "\n",
    "levels(murders$region)"
   ]
  },
  {
   "cell_type": "code",
   "execution_count": 47,
   "metadata": {},
   "outputs": [
    {
     "data": {
      "text/plain": [
       "x\n",
       "a b c \n",
       "2 3 1 "
      ]
     },
     "metadata": {},
     "output_type": "display_data"
    },
    {
     "data": {
      "text/plain": [
       "\n",
       "    Northeast         South North Central          West \n",
       "            9            17            12            13 "
      ]
     },
     "metadata": {},
     "output_type": "display_data"
    }
   ],
   "source": [
    "# Here is an example of what the table function does\n",
    "x <- c(\"a\", \"a\", \"b\", \"b\", \"b\", \"c\")\n",
    "table(x)\n",
    "\n",
    "#example from murder table\n",
    "table(murders$region)"
   ]
  },
  {
   "cell_type": "code",
   "execution_count": null,
   "metadata": {
    "collapsed": true
   },
   "outputs": [],
   "source": [
    "#Numeric Vectors\n",
    "\n",
    "\n",
    "\n",
    "#A vector is a series of values, all of the same type. They are the most basic data type in R and can hold numeric data, character data, or logical data. In R, you can create a vector with the combine function c(). You place the vector elements separated by a comma between the parentheses. For example a numeric vector would look something like this: \n",
    "cost <- c(50, 75, 90, 100, 150)\n",
    "\n"
   ]
  },
  {
   "cell_type": "code",
   "execution_count": null,
   "metadata": {
    "collapsed": true
   },
   "outputs": [],
   "source": [
    "# Store the 5 abbreviations in abbs. (remember that they are character vectors)\n",
    "abbs <- c(\"MA\", \"ME\", \"MI\", \"MO\", \"MU\") \n",
    "\n",
    "# Use the `which` command and `!` operator to find out which abbreviation are not actually part of the dataset and store in ind\n",
    "ind <- which(!abbs%in%murders$abb)\n",
    "# What are the entries of abbs that are not actual abbreviations\n",
    "abbs[5]"
   ]
  },
  {
   "cell_type": "code",
   "execution_count": 50,
   "metadata": {},
   "outputs": [
    {
     "data": {
      "text/html": [
       "<dl class=dl-horizontal>\n",
       "\t<dt>salads</dt>\n",
       "\t\t<dd>90</dd>\n",
       "\t<dt>cheese</dt>\n",
       "\t\t<dd>100</dd>\n",
       "\t<dt>pasta</dt>\n",
       "\t\t<dd>150</dd>\n",
       "</dl>\n"
      ],
      "text/latex": [
       "\\begin{description*}\n",
       "\\item[salads] 90\n",
       "\\item[cheese] 100\n",
       "\\item[pasta] 150\n",
       "\\end{description*}\n"
      ],
      "text/markdown": [
       "salads\n",
       ":   90cheese\n",
       ":   100pasta\n",
       ":   150\n",
       "\n"
      ],
      "text/plain": [
       "salads cheese  pasta \n",
       "    90    100    150 "
      ]
     },
     "metadata": {},
     "output_type": "display_data"
    }
   ],
   "source": [
    "# Associate the cost values with its corresponding food item\n",
    "cost <- c(50, 75, 90, 100, 150)\n",
    "food <- c(\"pizza\", \"burgers\", \"salads\", \"cheese\", \"pasta\")\n",
    "names(cost) <- food\n",
    "\n",
    "\n",
    "# cost of the last 3 items in our food list:\n",
    "cost[3:5]\n",
    "\n",
    "#To access the cost of pizza (1st) and pasta (5th food item) in our list, the code would be:\n",
    "cost[c(1,5)]\n"
   ]
  },
  {
   "cell_type": "code",
   "execution_count": 54,
   "metadata": {},
   "outputs": [
    {
     "data": {
      "text/html": [
       "TRUE"
      ],
      "text/latex": [
       "TRUE"
      ],
      "text/markdown": [
       "TRUE"
      ],
      "text/plain": [
       "[1] TRUE"
      ]
     },
     "metadata": {},
     "output_type": "display_data"
    },
    {
     "data": {
      "text/html": [
       "68"
      ],
      "text/latex": [
       "68"
      ],
      "text/markdown": [
       "68"
      ],
      "text/plain": [
       "[1] 68"
      ]
     },
     "metadata": {},
     "output_type": "display_data"
    },
    {
     "data": {
      "text/html": [
       "<ol class=list-inline>\n",
       "\t<li>7</li>\n",
       "\t<li>14</li>\n",
       "\t<li>21</li>\n",
       "\t<li>28</li>\n",
       "\t<li>35</li>\n",
       "\t<li>42</li>\n",
       "\t<li>49</li>\n",
       "</ol>\n"
      ],
      "text/latex": [
       "\\begin{enumerate*}\n",
       "\\item 7\n",
       "\\item 14\n",
       "\\item 21\n",
       "\\item 28\n",
       "\\item 35\n",
       "\\item 42\n",
       "\\item 49\n",
       "\\end{enumerate*}\n"
      ],
      "text/markdown": [
       "1. 7\n",
       "2. 14\n",
       "3. 21\n",
       "4. 28\n",
       "5. 35\n",
       "6. 42\n",
       "7. 49\n",
       "\n",
       "\n"
      ],
      "text/plain": [
       "[1]  7 14 21 28 35 42 49"
      ]
     },
     "metadata": {},
     "output_type": "display_data"
    },
    {
     "data": {
      "text/html": [
       "<ol class=list-inline>\n",
       "\t<li>0</li>\n",
       "\t<li>25</li>\n",
       "\t<li>50</li>\n",
       "\t<li>75</li>\n",
       "\t<li>100</li>\n",
       "</ol>\n"
      ],
      "text/latex": [
       "\\begin{enumerate*}\n",
       "\\item 0\n",
       "\\item 25\n",
       "\\item 50\n",
       "\\item 75\n",
       "\\item 100\n",
       "\\end{enumerate*}\n"
      ],
      "text/markdown": [
       "1. 0\n",
       "2. 25\n",
       "3. 50\n",
       "4. 75\n",
       "5. 100\n",
       "\n",
       "\n"
      ],
      "text/plain": [
       "[1]   0  25  50  75 100"
      ]
     },
     "metadata": {},
     "output_type": "display_data"
    }
   ],
   "source": [
    "# Create a vector m of integers that starts at 32 and ends at 99.\n",
    "m <- 32:99\n",
    "\n",
    "# seq doing the same thing\n",
    "n <- seq(32,99)\n",
    "\n",
    "# check\n",
    "identical(m,n)\n",
    "\n",
    "# Determine the length of object m.\n",
    "length(m)\n",
    "\n",
    "\n",
    "# Create a vector with the multiples of 7, smaller than 50.\n",
    "seq(7, 49, 7) \n",
    "\n",
    "\n",
    "#produces the numbers 0, 25, 50, 75, 100. \n",
    "seq(0, 100, length.out = 5)\n"
   ]
  },
  {
   "cell_type": "code",
   "execution_count": 55,
   "metadata": {},
   "outputs": [
    {
     "data": {
      "text/html": [
       "'character'"
      ],
      "text/latex": [
       "'character'"
      ],
      "text/markdown": [
       "'character'"
      ],
      "text/plain": [
       "[1] \"character\""
      ]
     },
     "metadata": {},
     "output_type": "display_data"
    },
    {
     "name": "stderr",
     "output_type": "stream",
     "text": [
      "Warning message in eval(expr, envir, enclos):\n",
      "\"NAs introduced by coercion\""
     ]
    }
   ],
   "source": [
    "# Define the vector x\n",
    "x <- c(1, 3, 5,\"a\")\n",
    "\n",
    "# Note that the x is character vector\n",
    "class(x)\n",
    "\n",
    "# Typecast the vector to get an integer vector\n",
    "# You will get a warning but that is ok\n",
    "x<-as.numeric(x)"
   ]
  },
  {
   "cell_type": "code",
   "execution_count": 57,
   "metadata": {},
   "outputs": [
    {
     "data": {
      "text/html": [
       "'Alabama'"
      ],
      "text/latex": [
       "'Alabama'"
      ],
      "text/markdown": [
       "'Alabama'"
      ],
      "text/plain": [
       "[1] \"Alabama\""
      ]
     },
     "metadata": {},
     "output_type": "display_data"
    },
    {
     "data": {
      "text/html": [
       "<ol class=list-inline>\n",
       "\t<li>563626</li>\n",
       "\t<li>601723</li>\n",
       "\t<li>625741</li>\n",
       "\t<li>672591</li>\n",
       "\t<li>710231</li>\n",
       "\t<li>814180</li>\n",
       "\t<li>897934</li>\n",
       "\t<li>989415</li>\n",
       "\t<li>1052567</li>\n",
       "\t<li>1316470</li>\n",
       "\t<li>1328361</li>\n",
       "\t<li>1360301</li>\n",
       "\t<li>1567582</li>\n",
       "\t<li>1826341</li>\n",
       "\t<li>1852994</li>\n",
       "\t<li>2059179</li>\n",
       "\t<li>2700551</li>\n",
       "\t<li>2763885</li>\n",
       "\t<li>2853118</li>\n",
       "\t<li>2915918</li>\n",
       "\t<li>2967297</li>\n",
       "\t<li>3046355</li>\n",
       "\t<li>3574097</li>\n",
       "\t<li>3751351</li>\n",
       "\t<li>3831074</li>\n",
       "\t<li>4339367</li>\n",
       "\t<li>4533372</li>\n",
       "\t<li>4625364</li>\n",
       "\t<li>4779736</li>\n",
       "\t<li>5029196</li>\n",
       "\t<li>5303925</li>\n",
       "\t<li>5686986</li>\n",
       "\t<li>5773552</li>\n",
       "\t<li>5988927</li>\n",
       "\t<li>6346105</li>\n",
       "\t<li>6392017</li>\n",
       "\t<li>6483802</li>\n",
       "\t<li>6547629</li>\n",
       "\t<li>6724540</li>\n",
       "\t<li>8001024</li>\n",
       "\t<li>8791894</li>\n",
       "\t<li>9535483</li>\n",
       "\t<li>9883640</li>\n",
       "\t<li>9920000</li>\n",
       "\t<li>11536504</li>\n",
       "\t<li>12702379</li>\n",
       "\t<li>12830632</li>\n",
       "\t<li>19378102</li>\n",
       "\t<li>19687653</li>\n",
       "\t<li>25145561</li>\n",
       "\t<li>37253956</li>\n",
       "</ol>\n"
      ],
      "text/latex": [
       "\\begin{enumerate*}\n",
       "\\item 563626\n",
       "\\item 601723\n",
       "\\item 625741\n",
       "\\item 672591\n",
       "\\item 710231\n",
       "\\item 814180\n",
       "\\item 897934\n",
       "\\item 989415\n",
       "\\item 1052567\n",
       "\\item 1316470\n",
       "\\item 1328361\n",
       "\\item 1360301\n",
       "\\item 1567582\n",
       "\\item 1826341\n",
       "\\item 1852994\n",
       "\\item 2059179\n",
       "\\item 2700551\n",
       "\\item 2763885\n",
       "\\item 2853118\n",
       "\\item 2915918\n",
       "\\item 2967297\n",
       "\\item 3046355\n",
       "\\item 3574097\n",
       "\\item 3751351\n",
       "\\item 3831074\n",
       "\\item 4339367\n",
       "\\item 4533372\n",
       "\\item 4625364\n",
       "\\item 4779736\n",
       "\\item 5029196\n",
       "\\item 5303925\n",
       "\\item 5686986\n",
       "\\item 5773552\n",
       "\\item 5988927\n",
       "\\item 6346105\n",
       "\\item 6392017\n",
       "\\item 6483802\n",
       "\\item 6547629\n",
       "\\item 6724540\n",
       "\\item 8001024\n",
       "\\item 8791894\n",
       "\\item 9535483\n",
       "\\item 9883640\n",
       "\\item 9920000\n",
       "\\item 11536504\n",
       "\\item 12702379\n",
       "\\item 12830632\n",
       "\\item 19378102\n",
       "\\item 19687653\n",
       "\\item 25145561\n",
       "\\item 37253956\n",
       "\\end{enumerate*}\n"
      ],
      "text/markdown": [
       "1. 563626\n",
       "2. 601723\n",
       "3. 625741\n",
       "4. 672591\n",
       "5. 710231\n",
       "6. 814180\n",
       "7. 897934\n",
       "8. 989415\n",
       "9. 1052567\n",
       "10. 1316470\n",
       "11. 1328361\n",
       "12. 1360301\n",
       "13. 1567582\n",
       "14. 1826341\n",
       "15. 1852994\n",
       "16. 2059179\n",
       "17. 2700551\n",
       "18. 2763885\n",
       "19. 2853118\n",
       "20. 2915918\n",
       "21. 2967297\n",
       "22. 3046355\n",
       "23. 3574097\n",
       "24. 3751351\n",
       "25. 3831074\n",
       "26. 4339367\n",
       "27. 4533372\n",
       "28. 4625364\n",
       "29. 4779736\n",
       "30. 5029196\n",
       "31. 5303925\n",
       "32. 5686986\n",
       "33. 5773552\n",
       "34. 5988927\n",
       "35. 6346105\n",
       "36. 6392017\n",
       "37. 6483802\n",
       "38. 6547629\n",
       "39. 6724540\n",
       "40. 8001024\n",
       "41. 8791894\n",
       "42. 9535483\n",
       "43. 9883640\n",
       "44. 9920000\n",
       "45. 11536504\n",
       "46. 12702379\n",
       "47. 12830632\n",
       "48. 19378102\n",
       "49. 19687653\n",
       "50. 25145561\n",
       "51. 37253956\n",
       "\n",
       "\n"
      ],
      "text/plain": [
       " [1]   563626   601723   625741   672591   710231   814180   897934   989415\n",
       " [9]  1052567  1316470  1328361  1360301  1567582  1826341  1852994  2059179\n",
       "[17]  2700551  2763885  2853118  2915918  2967297  3046355  3574097  3751351\n",
       "[25]  3831074  4339367  4533372  4625364  4779736  5029196  5303925  5686986\n",
       "[33]  5773552  5988927  6346105  6392017  6483802  6547629  6724540  8001024\n",
       "[41]  8791894  9535483  9883640  9920000 11536504 12702379 12830632 19378102\n",
       "[49] 19687653 25145561 37253956"
      ]
     },
     "metadata": {},
     "output_type": "display_data"
    },
    {
     "data": {
      "text/html": [
       "563626"
      ],
      "text/latex": [
       "563626"
      ],
      "text/markdown": [
       "563626"
      ],
      "text/plain": [
       "[1] 563626"
      ]
     },
     "metadata": {},
     "output_type": "display_data"
    }
   ],
   "source": [
    "# Access the `state` variable and store it in an object \n",
    "states <- murders$state \n",
    "\n",
    "# Sort the object alphabetically and redefine the object \n",
    "states <- sort(states) \n",
    "\n",
    "# Report the first alphabetical value  \n",
    "states[1]\n",
    "\n",
    "# Access population values from the dataset and store it in pop\n",
    "pop = murders$population\n",
    "\n",
    "# Sort the object and save it in the same object \n",
    "\n",
    "pop <- sort(pop)\n",
    "pop\n",
    "\n",
    "# Report the smallest population size \n",
    "pop[1]"
   ]
  },
  {
   "cell_type": "code",
   "execution_count": 56,
   "metadata": {},
   "outputs": [
    {
     "data": {
      "text/html": [
       "<ol class=list-inline>\n",
       "\t<li>51</li>\n",
       "\t<li>9</li>\n",
       "\t<li>46</li>\n",
       "\t<li>35</li>\n",
       "\t<li>2</li>\n",
       "\t<li>42</li>\n",
       "\t<li>8</li>\n",
       "\t<li>27</li>\n",
       "\t<li>40</li>\n",
       "\t<li>30</li>\n",
       "\t<li>20</li>\n",
       "\t<li>12</li>\n",
       "\t<li>13</li>\n",
       "\t<li>28</li>\n",
       "\t<li>49</li>\n",
       "\t<li>32</li>\n",
       "\t<li>29</li>\n",
       "\t<li>45</li>\n",
       "\t<li>17</li>\n",
       "\t<li>4</li>\n",
       "\t<li>25</li>\n",
       "\t<li>16</li>\n",
       "\t<li>7</li>\n",
       "\t<li>37</li>\n",
       "\t<li>38</li>\n",
       "\t<li>18</li>\n",
       "\t<li>19</li>\n",
       "\t<li>41</li>\n",
       "\t<li>1</li>\n",
       "\t<li>6</li>\n",
       "\t<li>24</li>\n",
       "\t<li>50</li>\n",
       "\t<li>21</li>\n",
       "\t<li>26</li>\n",
       "\t<li>43</li>\n",
       "\t<li>3</li>\n",
       "\t<li>15</li>\n",
       "\t<li>22</li>\n",
       "\t<li>48</li>\n",
       "\t<li>47</li>\n",
       "\t<li>31</li>\n",
       "\t<li>34</li>\n",
       "\t<li>23</li>\n",
       "\t<li>11</li>\n",
       "\t<li>36</li>\n",
       "\t<li>39</li>\n",
       "\t<li>14</li>\n",
       "\t<li>33</li>\n",
       "\t<li>10</li>\n",
       "\t<li>44</li>\n",
       "\t<li>5</li>\n",
       "</ol>\n"
      ],
      "text/latex": [
       "\\begin{enumerate*}\n",
       "\\item 51\n",
       "\\item 9\n",
       "\\item 46\n",
       "\\item 35\n",
       "\\item 2\n",
       "\\item 42\n",
       "\\item 8\n",
       "\\item 27\n",
       "\\item 40\n",
       "\\item 30\n",
       "\\item 20\n",
       "\\item 12\n",
       "\\item 13\n",
       "\\item 28\n",
       "\\item 49\n",
       "\\item 32\n",
       "\\item 29\n",
       "\\item 45\n",
       "\\item 17\n",
       "\\item 4\n",
       "\\item 25\n",
       "\\item 16\n",
       "\\item 7\n",
       "\\item 37\n",
       "\\item 38\n",
       "\\item 18\n",
       "\\item 19\n",
       "\\item 41\n",
       "\\item 1\n",
       "\\item 6\n",
       "\\item 24\n",
       "\\item 50\n",
       "\\item 21\n",
       "\\item 26\n",
       "\\item 43\n",
       "\\item 3\n",
       "\\item 15\n",
       "\\item 22\n",
       "\\item 48\n",
       "\\item 47\n",
       "\\item 31\n",
       "\\item 34\n",
       "\\item 23\n",
       "\\item 11\n",
       "\\item 36\n",
       "\\item 39\n",
       "\\item 14\n",
       "\\item 33\n",
       "\\item 10\n",
       "\\item 44\n",
       "\\item 5\n",
       "\\end{enumerate*}\n"
      ],
      "text/markdown": [
       "1. 51\n",
       "2. 9\n",
       "3. 46\n",
       "4. 35\n",
       "5. 2\n",
       "6. 42\n",
       "7. 8\n",
       "8. 27\n",
       "9. 40\n",
       "10. 30\n",
       "11. 20\n",
       "12. 12\n",
       "13. 13\n",
       "14. 28\n",
       "15. 49\n",
       "16. 32\n",
       "17. 29\n",
       "18. 45\n",
       "19. 17\n",
       "20. 4\n",
       "21. 25\n",
       "22. 16\n",
       "23. 7\n",
       "24. 37\n",
       "25. 38\n",
       "26. 18\n",
       "27. 19\n",
       "28. 41\n",
       "29. 1\n",
       "30. 6\n",
       "31. 24\n",
       "32. 50\n",
       "33. 21\n",
       "34. 26\n",
       "35. 43\n",
       "36. 3\n",
       "37. 15\n",
       "38. 22\n",
       "39. 48\n",
       "40. 47\n",
       "41. 31\n",
       "42. 34\n",
       "43. 23\n",
       "44. 11\n",
       "45. 36\n",
       "46. 39\n",
       "47. 14\n",
       "48. 33\n",
       "49. 10\n",
       "50. 44\n",
       "51. 5\n",
       "\n",
       "\n"
      ],
      "text/plain": [
       " [1] 51  9 46 35  2 42  8 27 40 30 20 12 13 28 49 32 29 45 17  4 25 16  7 37 38\n",
       "[26] 18 19 41  1  6 24 50 21 26 43  3 15 22 48 47 31 34 23 11 36 39 14 33 10 44\n",
       "[51]  5"
      ]
     },
     "metadata": {},
     "output_type": "display_data"
    },
    {
     "data": {
      "text/html": [
       "51"
      ],
      "text/latex": [
       "51"
      ],
      "text/markdown": [
       "51"
      ],
      "text/plain": [
       "[1] 51"
      ]
     },
     "metadata": {},
     "output_type": "display_data"
    }
   ],
   "source": [
    "# Access population from the dataset and store it in pop\n",
    "pop <- murders$population\n",
    "\n",
    "# Use the command order, to order pop and store in object o\n",
    "o <- order(pop)\n",
    "o\n",
    "# Find the index number of the entry with the smallest population size\n",
    "o[1]"
   ]
  },
  {
   "cell_type": "code",
   "execution_count": null,
   "metadata": {
    "collapsed": true
   },
   "outputs": [],
   "source": [
    "# Find the smallest value for variable total \n",
    "which.min(murders$total)\n",
    "\n",
    "# Find the smallest value for population\n",
    "which.min(murders$population)"
   ]
  },
  {
   "cell_type": "code",
   "execution_count": null,
   "metadata": {
    "collapsed": true
   },
   "outputs": [],
   "source": [
    "# Define the variable i to be the index of the smallest state\n",
    "i <- which.min(murders$population)\n",
    "\n",
    "# Define variable states to hold the states\n",
    "\n",
    "states <- murders$state\n",
    "\n",
    "# Use the index you just defined to find the state with the smallest population\n",
    "states[i]"
   ]
  },
  {
   "cell_type": "code",
   "execution_count": null,
   "metadata": {
    "collapsed": true
   },
   "outputs": [],
   "source": [
    "# Store temperatures in an object \n",
    "temp <- c(35, 88, 42, 84, 81, 30)\n",
    "\n",
    "# Store city names in an object \n",
    "city <- c(\"Beijing\", \"Lagos\", \"Paris\", \"Rio de Janeiro\", \"San Juan\", \"Toronto\")\n",
    "\n",
    "# Create data frame with city names and temperature \n",
    "city_temps <- data.frame(name = city, temperature = temp)\n",
    "\n",
    "# Define a variable states to be the state names \n",
    "states <- murders$state\n",
    "\n",
    "# Define a variable ranks to determine the population size ranks \n",
    "\n",
    "ranks <- rank(murders$population)"
   ]
  },
  {
   "cell_type": "code",
   "execution_count": null,
   "metadata": {
    "collapsed": true
   },
   "outputs": [],
   "source": [
    "# Define a variable states to be the state names from the murders data frame\n",
    "\n",
    "states<-murders$state\n",
    "\n",
    "# Define a variable ranks to determine the population size ranks \n",
    "ranks<-rank(murders$population)\n",
    "\n",
    "# Define a variable ind to store the indexes needed to order the population values\n",
    "ind<-order(murders$population)\n",
    "\n",
    "# Create a data frame my_df with the state name and its rank and ordered from least populous to most \n",
    "my_df<- data.frame(name = states[ind] ,rank = ranks[ind])\n"
   ]
  },
  {
   "cell_type": "code",
   "execution_count": null,
   "metadata": {
    "collapsed": true
   },
   "outputs": [],
   "source": [
    "# Using new dataset \n",
    "library(dslabs)\n",
    "data(na_example)\n",
    "\n",
    "# Checking the structure \n",
    "str(na_example)\n",
    "\n",
    "# Find out the mean of the entire dataset \n",
    "mean(na_example)\n",
    "\n",
    "# Use is.na to create a logical index ind that tells which entries are NA\n",
    "\n",
    "ind<-is.na(na_example)\n",
    "\n",
    "# Determine how many NA ind has using the sum function\n",
    "sum(ind)"
   ]
  },
  {
   "cell_type": "code",
   "execution_count": null,
   "metadata": {
    "collapsed": true
   },
   "outputs": [],
   "source": [
    "# Note what we can do with the ! operator\n",
    "x <- c(1, 2, 3)\n",
    "ind <- c(FALSE, TRUE, FALSE)\n",
    "x[!ind]\n",
    "\n",
    "# Create the ind vector\n",
    "library(dslabs)\n",
    "data(na_example)\n",
    "ind <- is.na(na_example)\n",
    "\n",
    "# We saw that this gives an NA\n",
    "mean(na_example)\n",
    "\n",
    "# Compute the average, for entries of na_example that are not NA \n",
    "mean(na_example[!ind])"
   ]
  },
  {
   "cell_type": "code",
   "execution_count": null,
   "metadata": {
    "collapsed": true
   },
   "outputs": [],
   "source": [
    "# Create a data frame `city_temps` \n",
    "city_temps <- data.frame(name = city, temperature = temp)"
   ]
  },
  {
   "cell_type": "code",
   "execution_count": 17,
   "metadata": {},
   "outputs": [
    {
     "data": {
      "text/html": [
       "<ol class=list-inline>\n",
       "\t<li>100</li>\n",
       "\t<li>94</li>\n",
       "\t<li>88</li>\n",
       "\t<li>83</li>\n",
       "\t<li>92</li>\n",
       "</ol>\n"
      ],
      "text/latex": [
       "\\begin{enumerate*}\n",
       "\\item 100\n",
       "\\item 94\n",
       "\\item 88\n",
       "\\item 83\n",
       "\\item 92\n",
       "\\end{enumerate*}\n"
      ],
      "text/markdown": [
       "1. 100\n",
       "2. 94\n",
       "3. 88\n",
       "4. 83\n",
       "5. 92\n",
       "\n",
       "\n"
      ],
      "text/plain": [
       "[1] 100  94  88  83  92"
      ]
     },
     "metadata": {},
     "output_type": "display_data"
    }
   ],
   "source": [
    "x <- c(88, 100, 83, 92, 94)\n",
    "x[rank(x)]"
   ]
  },
  {
   "cell_type": "code",
   "execution_count": 19,
   "metadata": {},
   "outputs": [
    {
     "data": {
      "text/html": [
       "34"
      ],
      "text/latex": [
       "34"
      ],
      "text/markdown": [
       "34"
      ],
      "text/plain": [
       "[1] 34"
      ]
     },
     "metadata": {},
     "output_type": "display_data"
    }
   ],
   "source": [
    "# Use filter to create a new data frame no_south\n",
    "no_south <- filter(murders,region!=\"South\")\n",
    "# Use nrow() to calculate the number of rows\n",
    "nrow(no_south)"
   ]
  },
  {
   "cell_type": "code",
   "execution_count": 21,
   "metadata": {},
   "outputs": [
    {
     "data": {
      "text/html": [
       "22"
      ],
      "text/latex": [
       "22"
      ],
      "text/markdown": [
       "22"
      ],
      "text/plain": [
       "[1] 22"
      ]
     },
     "metadata": {},
     "output_type": "display_data"
    }
   ],
   "source": [
    "# Create a new data frame called murders_nw with only the states from the northeast and the west\n",
    "murders_nw<-filter(murders,region %in% c(\"Northeast\",\"West\"))\n",
    "# Number of states (rows) in this category \n",
    "nrow(murders_nw)"
   ]
  },
  {
   "cell_type": "code",
   "execution_count": null,
   "metadata": {
    "collapsed": true
   },
   "outputs": [],
   "source": [
    "# add the rate column\n",
    "# Note that if you want ranks from highest to lowest you can take the negative and ten compute the ranks \n",
    "x <- c(88, 100, 83, 92, 94)\n",
    "rank(-x)\n",
    "\n",
    "# Defining rate\n",
    "rate <-  murders$total/ murders$population * 100000\n",
    "\n",
    "# Redefine murders to include a column named rank\n",
    "# with the ranks of rate from highest to lowest\n",
    "murders <- mutate(murders, rank = rank(-rate))\n",
    "\n",
    "# Create a table, call it my_states, that satisfies both the conditions \n",
    "my_states<-filter(murders,region %in% c(\"Northeast\",\"West\") & rate < 1)\n",
    "# Use select to show only the state name, the murder rate and the rank\n",
    "select(my_states,state,rate,rank)"
   ]
  },
  {
   "cell_type": "code",
   "execution_count": null,
   "metadata": {
    "collapsed": true
   },
   "outputs": [],
   "source": [
    "# Load library\n",
    "library(dplyr)\n",
    "\n",
    "## Define the rate column\n",
    "murders <- mutate(murders, rate =  total / population * 100000, rank = rank(-rate))\n",
    "\n",
    "\n",
    "# show the result and only include the state, rate, and rank columns, all in one line\n",
    "filter(murders,region %in% c(\"Northeast\",\"West\") & rate < 1) %>% select(state,rate,rank)"
   ]
  },
  {
   "cell_type": "code",
   "execution_count": 25,
   "metadata": {},
   "outputs": [
    {
     "ename": "ERROR",
     "evalue": "Error in mutate_impl(.data, dots): Column `murders` must be length 51 (the number of rows) or one, not 5\n",
     "output_type": "error",
     "traceback": [
      "Error in mutate_impl(.data, dots): Column `murders` must be length 51 (the number of rows) or one, not 5\nTraceback:\n",
      "1. murders %>% mutate(murders, rate = total/population * 1e+05, \n .     rank = rank(-rate))",
      "2. withVisible(eval(quote(`_fseq`(`_lhs`)), env, env))",
      "3. eval(quote(`_fseq`(`_lhs`)), env, env)",
      "4. eval(quote(`_fseq`(`_lhs`)), env, env)",
      "5. `_fseq`(`_lhs`)",
      "6. freduce(value, `_function_list`)",
      "7. withVisible(function_list[[k]](value))",
      "8. function_list[[k]](value)",
      "9. mutate(., murders, rate = total/population * 1e+05, rank = rank(-rate))",
      "10. mutate.data.frame(., murders, rate = total/population * 1e+05, \n  .     rank = rank(-rate))",
      "11. as.data.frame(mutate(tbl_df(.data), ...))",
      "12. mutate(tbl_df(.data), ...)",
      "13. mutate.tbl_df(tbl_df(.data), ...)",
      "14. mutate_impl(.data, dots)"
     ]
    }
   ],
   "source": [
    "# Loading the libraries\n",
    "library(dplyr)\n",
    "data(murders)\n",
    "\n",
    "# Create new data frame called my_states (with specifications in the instructions)\n",
    " \n",
    "my_states <- murders %>% mutate(rate =  total / population * 100000, rank = rank(-rate)) %>% filter(region %in% c(\"Northeast\",\"West\") & rate < 1) %>% select(state,rate,rank)\n"
   ]
  },
  {
   "cell_type": "code",
   "execution_count": 29,
   "metadata": {},
   "outputs": [
    {
     "data": {
      "text/html": [
       "4"
      ],
      "text/latex": [
       "4"
      ],
      "text/markdown": [
       "4"
      ],
      "text/plain": [
       "[1] 4"
      ]
     },
     "metadata": {},
     "output_type": "display_data"
    }
   ],
   "source": [
    "# Load the datasets and define some variables\n",
    "library(dslabs)\n",
    "data(murders)\n",
    "\n",
    "population_in_millions <- murders$population/10^6\n",
    "total_gun_murders <- murders$total\n",
    "\n",
    "plot(population_in_millions, total_gun_murders)\n",
    "\n",
    "# Transform population using the log10 transformation and save to object log10_population\n",
    "log10_population = log(murders$population,10)\n",
    "\n",
    "# Transform total gun murders using log10 transformation and save to object log10_total_gun_murders\n",
    "log10_total_gun_murders = log(murders$total,10)\n",
    "\n",
    "# Create a scatterplot with the log scale transformed population and murders\n",
    "plot(log10_population,log10_total_gun_murders)"
   ]
  },
  {
   "cell_type": "code",
   "execution_count": null,
   "metadata": {
    "collapsed": true
   },
   "outputs": [],
   "source": [
    "# Create a boxplot of state populations by region for the murders dataset\n",
    "boxplot(population~region, data=murders)\n"
   ]
  },
  {
   "cell_type": "code",
   "execution_count": null,
   "metadata": {
    "collapsed": true
   },
   "outputs": [],
   "source": [
    "# Store the population in millions and save to population_in_millions \n",
    "population_in_millions <- murders$population/10^6\n",
    "\n",
    "\n",
    "# Create a histogram of this variable\n",
    "hist(population_in_millions)"
   ]
  },
  {
   "cell_type": "code",
   "execution_count": 2,
   "metadata": {},
   "outputs": [
    {
     "data": {
      "text/plain": [
       "    state               abb                      region     population      \n",
       " Length:51          Length:51          Northeast    : 9   Min.   :  563626  \n",
       " Class :character   Class :character   South        :17   1st Qu.: 1696962  \n",
       " Mode  :character   Mode  :character   North Central:12   Median : 4339367  \n",
       "                                       West         :13   Mean   : 6075769  \n",
       "                                                          3rd Qu.: 6636084  \n",
       "                                                          Max.   :37253956  \n",
       "     total       \n",
       " Min.   :   2.0  \n",
       " 1st Qu.:  24.5  \n",
       " Median :  97.0  \n",
       " Mean   : 184.4  \n",
       " 3rd Qu.: 268.0  \n",
       " Max.   :1257.0  "
      ]
     },
     "metadata": {},
     "output_type": "display_data"
    }
   ],
   "source": [
    "library(dslabs)\n",
    "data(murders)\n",
    "summary(murders)"
   ]
  },
  {
   "cell_type": "code",
   "execution_count": null,
   "metadata": {},
   "outputs": [],
   "source": []
  }
 ],
 "metadata": {
  "kernelspec": {
   "display_name": "R",
   "language": "R",
   "name": "ir"
  },
  "language_info": {
   "codemirror_mode": "r",
   "file_extension": ".r",
   "mimetype": "text/x-r-source",
   "name": "R",
   "pygments_lexer": "r",
   "version": "3.4.3"
  }
 },
 "nbformat": 4,
 "nbformat_minor": 2
}
