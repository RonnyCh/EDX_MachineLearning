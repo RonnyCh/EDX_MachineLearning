{
 "cells": [
  {
   "cell_type": "code",
   "execution_count": 65,
   "metadata": {},
   "outputs": [],
   "source": [
    "library(dslabs)\n",
    "data('tissue_gene_expression')\n",
    "library(caret)\n",
    "\n",
    "set.seed(1)\n",
    "#create training index (rather than test index) as suggested by comments\n",
    "train_index <- createDataPartition(tissue_gene_expression$y, p = 0.5, list = F)\n",
    "\n",
    "# split original data set into x and y\n",
    "x <- tissue_gene_expression$x\n",
    "y <- tissue_gene_expression$y\n",
    "\n",
    "# split x into train and test sets\n",
    "train_set_x = x[train_index,]\n",
    "test_set_x = x[-train_index,]\n",
    "\n",
    "# split y into train and test sets\n",
    "train_set_y = y[train_index]\n",
    "test_set_y = y[-train_index]\n",
    "\n",
    "# merge x and y train sets as a list (as per original data set)\n",
    "train_set = list('x' = train_set_x, 'y' = train_set_y)\n",
    "\n",
    "# merge x and y test sets\n",
    "\n",
    "test_set = list('x' = test_set_x, 'y' = test_set_y)"
   ]
  },
  {
   "cell_type": "code",
   "execution_count": 81,
   "metadata": {},
   "outputs": [],
   "source": [
    "ks <- seq(1,11,2)\n",
    "accuracy <- sapply(ks, function(k){\n",
    "library(caret)\n",
    "knn_fit <- knn3(train_set_x,train_set_y, k=k)\n",
    "y_hat <- predict(knn_fit,test_set_x,type=\"class\")\n",
    "mean(y_hat==test_set_y)\n",
    "})\n",
    "\n",
    "accuracy"
   ]
  },
  {
   "cell_type": "code",
   "execution_count": 82,
   "metadata": {},
   "outputs": [
    {
     "data": {
      "text/html": [
       "<ol class=list-inline>\n",
       "\t<li>0.978494623655914</li>\n",
       "\t<li>0.967741935483871</li>\n",
       "\t<li>0.989247311827957</li>\n",
       "\t<li>0.967741935483871</li>\n",
       "\t<li>0.956989247311828</li>\n",
       "\t<li>0.956989247311828</li>\n",
       "</ol>\n"
      ],
      "text/latex": [
       "\\begin{enumerate*}\n",
       "\\item 0.978494623655914\n",
       "\\item 0.967741935483871\n",
       "\\item 0.989247311827957\n",
       "\\item 0.967741935483871\n",
       "\\item 0.956989247311828\n",
       "\\item 0.956989247311828\n",
       "\\end{enumerate*}\n"
      ],
      "text/markdown": [
       "1. 0.978494623655914\n",
       "2. 0.967741935483871\n",
       "3. 0.989247311827957\n",
       "4. 0.967741935483871\n",
       "5. 0.956989247311828\n",
       "6. 0.956989247311828\n",
       "\n",
       "\n"
      ],
      "text/plain": [
       "[1] 0.9784946 0.9677419 0.9892473 0.9677419 0.9569892 0.9569892"
      ]
     },
     "metadata": {},
     "output_type": "display_data"
    }
   ],
   "source": [
    "\n",
    "\n"
   ]
  },
  {
   "cell_type": "code",
   "execution_count": null,
   "metadata": {},
   "outputs": [],
   "source": []
  }
 ],
 "metadata": {
  "kernelspec": {
   "display_name": "R",
   "language": "R",
   "name": "ir"
  },
  "language_info": {
   "codemirror_mode": "r",
   "file_extension": ".r",
   "mimetype": "text/x-r-source",
   "name": "R",
   "pygments_lexer": "r",
   "version": "3.4.3"
  }
 },
 "nbformat": 4,
 "nbformat_minor": 2
}
