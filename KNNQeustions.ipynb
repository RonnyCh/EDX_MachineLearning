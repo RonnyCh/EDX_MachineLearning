{
 "cells": [
  {
   "cell_type": "code",
   "execution_count": 65,
   "metadata": {},
   "outputs": [],
   "source": [
    "library(dslabs)\n",
    "data('tissue_gene_expression')\n",
    "library(caret)\n",
    "\n",
    "set.seed(1)\n",
    "#create training index (rather than test index) as suggested by comments\n",
    "train_index <- createDataPartition(tissue_gene_expression$y, p = 0.5, list = F)\n",
    "\n",
    "# split original data set into x and y\n",
    "x <- tissue_gene_expression$x\n",
    "y <- tissue_gene_expression$y\n",
    "\n",
    "# split x into train and test sets\n",
    "train_set_x = x[train_index,]\n",
    "test_set_x = x[-train_index,]\n",
    "\n",
    "# split y into train and test sets\n",
    "train_set_y = y[train_index]\n",
    "test_set_y = y[-train_index]\n",
    "\n",
    "# merge x and y train sets as a list (as per original data set)\n",
    "train_set = list('x' = train_set_x, 'y' = train_set_y)\n",
    "\n",
    "# merge x and y test sets\n",
    "test_set = list('x' = test_set_x, 'y' = test_set_y)"
   ]
  },
  {
   "cell_type": "code",
   "execution_count": 66,
   "metadata": {},
   "outputs": [],
   "source": [
    "\n",
    "library(caret)\n",
    "knn_fit <- knn3(train_set_x,train_set_y)"
   ]
  },
  {
   "cell_type": "code",
   "execution_count": 68,
   "metadata": {},
   "outputs": [
    {
     "data": {
      "text/html": [
       "<ol class=list-inline>\n",
       "\t<li>cerebellum</li>\n",
       "\t<li>cerebellum</li>\n",
       "\t<li>cerebellum</li>\n",
       "\t<li>cerebellum</li>\n",
       "\t<li>cerebellum</li>\n",
       "\t<li>cerebellum</li>\n",
       "\t<li>cerebellum</li>\n",
       "\t<li>cerebellum</li>\n",
       "\t<li>cerebellum</li>\n",
       "\t<li>cerebellum</li>\n",
       "\t<li>cerebellum</li>\n",
       "\t<li>cerebellum</li>\n",
       "\t<li>cerebellum</li>\n",
       "\t<li>cerebellum</li>\n",
       "\t<li>cerebellum</li>\n",
       "\t<li>cerebellum</li>\n",
       "\t<li>cerebellum</li>\n",
       "\t<li>cerebellum</li>\n",
       "\t<li>cerebellum</li>\n",
       "\t<li>colon</li>\n",
       "\t<li>colon</li>\n",
       "\t<li>colon</li>\n",
       "\t<li>colon</li>\n",
       "\t<li>colon</li>\n",
       "\t<li>colon</li>\n",
       "\t<li>colon</li>\n",
       "\t<li>colon</li>\n",
       "\t<li>colon</li>\n",
       "\t<li>colon</li>\n",
       "\t<li>colon</li>\n",
       "\t<li>colon</li>\n",
       "\t<li>colon</li>\n",
       "\t<li>colon</li>\n",
       "\t<li>colon</li>\n",
       "\t<li>colon</li>\n",
       "\t<li>colon</li>\n",
       "\t<li>endometrium</li>\n",
       "\t<li>endometrium</li>\n",
       "\t<li>endometrium</li>\n",
       "\t<li>endometrium</li>\n",
       "\t<li>endometrium</li>\n",
       "\t<li>endometrium</li>\n",
       "\t<li>endometrium</li>\n",
       "\t<li>hippocampus</li>\n",
       "\t<li>hippocampus</li>\n",
       "\t<li>hippocampus</li>\n",
       "\t<li>hippocampus</li>\n",
       "\t<li>hippocampus</li>\n",
       "\t<li>hippocampus</li>\n",
       "\t<li>hippocampus</li>\n",
       "\t<li>hippocampus</li>\n",
       "\t<li>hippocampus</li>\n",
       "\t<li>hippocampus</li>\n",
       "\t<li>hippocampus</li>\n",
       "\t<li>hippocampus</li>\n",
       "\t<li>hippocampus</li>\n",
       "\t<li>hippocampus</li>\n",
       "\t<li>hippocampus</li>\n",
       "\t<li>kidney</li>\n",
       "\t<li>kidney</li>\n",
       "\t<li>kidney</li>\n",
       "\t<li>kidney</li>\n",
       "\t<li>kidney</li>\n",
       "\t<li>kidney</li>\n",
       "\t<li>kidney</li>\n",
       "\t<li>kidney</li>\n",
       "\t<li>kidney</li>\n",
       "\t<li>kidney</li>\n",
       "\t<li>kidney</li>\n",
       "\t<li>kidney</li>\n",
       "\t<li>kidney</li>\n",
       "\t<li>kidney</li>\n",
       "\t<li>kidney</li>\n",
       "\t<li>kidney</li>\n",
       "\t<li>kidney</li>\n",
       "\t<li>kidney</li>\n",
       "\t<li>kidney</li>\n",
       "\t<li>liver</li>\n",
       "\t<li>liver</li>\n",
       "\t<li>liver</li>\n",
       "\t<li>liver</li>\n",
       "\t<li>liver</li>\n",
       "\t<li>kidney</li>\n",
       "\t<li>liver</li>\n",
       "\t<li>liver</li>\n",
       "\t<li>liver</li>\n",
       "\t<li>liver</li>\n",
       "\t<li>liver</li>\n",
       "\t<li>liver</li>\n",
       "\t<li>liver</li>\n",
       "\t<li>placenta</li>\n",
       "\t<li>placenta</li>\n",
       "\t<li>placenta</li>\n",
       "</ol>\n",
       "\n",
       "<details>\n",
       "\t<summary style=display:list-item;cursor:pointer>\n",
       "\t\t<strong>Levels</strong>:\n",
       "\t</summary>\n",
       "\t<ol class=list-inline>\n",
       "\t\t<li>'cerebellum'</li>\n",
       "\t\t<li>'colon'</li>\n",
       "\t\t<li>'endometrium'</li>\n",
       "\t\t<li>'hippocampus'</li>\n",
       "\t\t<li>'kidney'</li>\n",
       "\t\t<li>'liver'</li>\n",
       "\t\t<li>'placenta'</li>\n",
       "\t</ol>\n",
       "</details>"
      ],
      "text/latex": [
       "\\begin{enumerate*}\n",
       "\\item cerebellum\n",
       "\\item cerebellum\n",
       "\\item cerebellum\n",
       "\\item cerebellum\n",
       "\\item cerebellum\n",
       "\\item cerebellum\n",
       "\\item cerebellum\n",
       "\\item cerebellum\n",
       "\\item cerebellum\n",
       "\\item cerebellum\n",
       "\\item cerebellum\n",
       "\\item cerebellum\n",
       "\\item cerebellum\n",
       "\\item cerebellum\n",
       "\\item cerebellum\n",
       "\\item cerebellum\n",
       "\\item cerebellum\n",
       "\\item cerebellum\n",
       "\\item cerebellum\n",
       "\\item colon\n",
       "\\item colon\n",
       "\\item colon\n",
       "\\item colon\n",
       "\\item colon\n",
       "\\item colon\n",
       "\\item colon\n",
       "\\item colon\n",
       "\\item colon\n",
       "\\item colon\n",
       "\\item colon\n",
       "\\item colon\n",
       "\\item colon\n",
       "\\item colon\n",
       "\\item colon\n",
       "\\item colon\n",
       "\\item colon\n",
       "\\item endometrium\n",
       "\\item endometrium\n",
       "\\item endometrium\n",
       "\\item endometrium\n",
       "\\item endometrium\n",
       "\\item endometrium\n",
       "\\item endometrium\n",
       "\\item hippocampus\n",
       "\\item hippocampus\n",
       "\\item hippocampus\n",
       "\\item hippocampus\n",
       "\\item hippocampus\n",
       "\\item hippocampus\n",
       "\\item hippocampus\n",
       "\\item hippocampus\n",
       "\\item hippocampus\n",
       "\\item hippocampus\n",
       "\\item hippocampus\n",
       "\\item hippocampus\n",
       "\\item hippocampus\n",
       "\\item hippocampus\n",
       "\\item hippocampus\n",
       "\\item kidney\n",
       "\\item kidney\n",
       "\\item kidney\n",
       "\\item kidney\n",
       "\\item kidney\n",
       "\\item kidney\n",
       "\\item kidney\n",
       "\\item kidney\n",
       "\\item kidney\n",
       "\\item kidney\n",
       "\\item kidney\n",
       "\\item kidney\n",
       "\\item kidney\n",
       "\\item kidney\n",
       "\\item kidney\n",
       "\\item kidney\n",
       "\\item kidney\n",
       "\\item kidney\n",
       "\\item kidney\n",
       "\\item liver\n",
       "\\item liver\n",
       "\\item liver\n",
       "\\item liver\n",
       "\\item liver\n",
       "\\item kidney\n",
       "\\item liver\n",
       "\\item liver\n",
       "\\item liver\n",
       "\\item liver\n",
       "\\item liver\n",
       "\\item liver\n",
       "\\item liver\n",
       "\\item placenta\n",
       "\\item placenta\n",
       "\\item placenta\n",
       "\\end{enumerate*}\n",
       "\n",
       "\\emph{Levels}: \\begin{enumerate*}\n",
       "\\item 'cerebellum'\n",
       "\\item 'colon'\n",
       "\\item 'endometrium'\n",
       "\\item 'hippocampus'\n",
       "\\item 'kidney'\n",
       "\\item 'liver'\n",
       "\\item 'placenta'\n",
       "\\end{enumerate*}\n"
      ],
      "text/markdown": [
       "1. cerebellum\n",
       "2. cerebellum\n",
       "3. cerebellum\n",
       "4. cerebellum\n",
       "5. cerebellum\n",
       "6. cerebellum\n",
       "7. cerebellum\n",
       "8. cerebellum\n",
       "9. cerebellum\n",
       "10. cerebellum\n",
       "11. cerebellum\n",
       "12. cerebellum\n",
       "13. cerebellum\n",
       "14. cerebellum\n",
       "15. cerebellum\n",
       "16. cerebellum\n",
       "17. cerebellum\n",
       "18. cerebellum\n",
       "19. cerebellum\n",
       "20. colon\n",
       "21. colon\n",
       "22. colon\n",
       "23. colon\n",
       "24. colon\n",
       "25. colon\n",
       "26. colon\n",
       "27. colon\n",
       "28. colon\n",
       "29. colon\n",
       "30. colon\n",
       "31. colon\n",
       "32. colon\n",
       "33. colon\n",
       "34. colon\n",
       "35. colon\n",
       "36. colon\n",
       "37. endometrium\n",
       "38. endometrium\n",
       "39. endometrium\n",
       "40. endometrium\n",
       "41. endometrium\n",
       "42. endometrium\n",
       "43. endometrium\n",
       "44. hippocampus\n",
       "45. hippocampus\n",
       "46. hippocampus\n",
       "47. hippocampus\n",
       "48. hippocampus\n",
       "49. hippocampus\n",
       "50. hippocampus\n",
       "51. hippocampus\n",
       "52. hippocampus\n",
       "53. hippocampus\n",
       "54. hippocampus\n",
       "55. hippocampus\n",
       "56. hippocampus\n",
       "57. hippocampus\n",
       "58. hippocampus\n",
       "59. kidney\n",
       "60. kidney\n",
       "61. kidney\n",
       "62. kidney\n",
       "63. kidney\n",
       "64. kidney\n",
       "65. kidney\n",
       "66. kidney\n",
       "67. kidney\n",
       "68. kidney\n",
       "69. kidney\n",
       "70. kidney\n",
       "71. kidney\n",
       "72. kidney\n",
       "73. kidney\n",
       "74. kidney\n",
       "75. kidney\n",
       "76. kidney\n",
       "77. kidney\n",
       "78. liver\n",
       "79. liver\n",
       "80. liver\n",
       "81. liver\n",
       "82. liver\n",
       "83. kidney\n",
       "84. liver\n",
       "85. liver\n",
       "86. liver\n",
       "87. liver\n",
       "88. liver\n",
       "89. liver\n",
       "90. liver\n",
       "91. placenta\n",
       "92. placenta\n",
       "93. placenta\n",
       "\n",
       "\n",
       "\n",
       "**Levels**: 1. 'cerebellum'\n",
       "2. 'colon'\n",
       "3. 'endometrium'\n",
       "4. 'hippocampus'\n",
       "5. 'kidney'\n",
       "6. 'liver'\n",
       "7. 'placenta'\n",
       "\n",
       "\n"
      ],
      "text/plain": [
       " [1] cerebellum  cerebellum  cerebellum  cerebellum  cerebellum  cerebellum \n",
       " [7] cerebellum  cerebellum  cerebellum  cerebellum  cerebellum  cerebellum \n",
       "[13] cerebellum  cerebellum  cerebellum  cerebellum  cerebellum  cerebellum \n",
       "[19] cerebellum  colon       colon       colon       colon       colon      \n",
       "[25] colon       colon       colon       colon       colon       colon      \n",
       "[31] colon       colon       colon       colon       colon       colon      \n",
       "[37] endometrium endometrium endometrium endometrium endometrium endometrium\n",
       "[43] endometrium hippocampus hippocampus hippocampus hippocampus hippocampus\n",
       "[49] hippocampus hippocampus hippocampus hippocampus hippocampus hippocampus\n",
       "[55] hippocampus hippocampus hippocampus hippocampus kidney      kidney     \n",
       "[61] kidney      kidney      kidney      kidney      kidney      kidney     \n",
       "[67] kidney      kidney      kidney      kidney      kidney      kidney     \n",
       "[73] kidney      kidney      kidney      kidney      kidney      liver      \n",
       "[79] liver       liver       liver       liver       kidney      liver      \n",
       "[85] liver       liver       liver       liver       liver       liver      \n",
       "[91] placenta    placenta    placenta   \n",
       "Levels: cerebellum colon endometrium hippocampus kidney liver placenta"
      ]
     },
     "metadata": {},
     "output_type": "display_data"
    }
   ],
   "source": [
    "\n",
    "\n",
    "predict(knn_fit,test_set_x,type=\"class\")"
   ]
  },
  {
   "cell_type": "code",
   "execution_count": 64,
   "metadata": {},
   "outputs": [
    {
     "data": {
      "text/html": [
       "<table>\n",
       "<thead><tr><th scope=col>cerebellum</th><th scope=col>colon</th><th scope=col>endometrium</th><th scope=col>hippocampus</th><th scope=col>kidney</th><th scope=col>liver</th><th scope=col>placenta</th></tr></thead>\n",
       "<tbody>\n",
       "\t<tr><td>1.0</td><td>0  </td><td>0  </td><td>0.0</td><td>0.0</td><td>0  </td><td>0  </td></tr>\n",
       "\t<tr><td>1.0</td><td>0  </td><td>0  </td><td>0.0</td><td>0.0</td><td>0  </td><td>0  </td></tr>\n",
       "\t<tr><td>1.0</td><td>0  </td><td>0  </td><td>0.0</td><td>0.0</td><td>0  </td><td>0  </td></tr>\n",
       "\t<tr><td>1.0</td><td>0  </td><td>0  </td><td>0.0</td><td>0.0</td><td>0  </td><td>0  </td></tr>\n",
       "\t<tr><td>1.0</td><td>0  </td><td>0  </td><td>0.0</td><td>0.0</td><td>0  </td><td>0  </td></tr>\n",
       "\t<tr><td>1.0</td><td>0  </td><td>0  </td><td>0.0</td><td>0.0</td><td>0  </td><td>0  </td></tr>\n",
       "\t<tr><td>1.0</td><td>0  </td><td>0  </td><td>0.0</td><td>0.0</td><td>0  </td><td>0  </td></tr>\n",
       "\t<tr><td>1.0</td><td>0  </td><td>0  </td><td>0.0</td><td>0.0</td><td>0  </td><td>0  </td></tr>\n",
       "\t<tr><td>1.0</td><td>0  </td><td>0  </td><td>0.0</td><td>0.0</td><td>0  </td><td>0  </td></tr>\n",
       "\t<tr><td>1.0</td><td>0  </td><td>0  </td><td>0.0</td><td>0.0</td><td>0  </td><td>0  </td></tr>\n",
       "\t<tr><td>1.0</td><td>0  </td><td>0  </td><td>0.0</td><td>0.0</td><td>0  </td><td>0  </td></tr>\n",
       "\t<tr><td>1.0</td><td>0  </td><td>0  </td><td>0.0</td><td>0.0</td><td>0  </td><td>0  </td></tr>\n",
       "\t<tr><td>1.0</td><td>0  </td><td>0  </td><td>0.0</td><td>0.0</td><td>0  </td><td>0  </td></tr>\n",
       "\t<tr><td>1.0</td><td>0  </td><td>0  </td><td>0.0</td><td>0.0</td><td>0  </td><td>0  </td></tr>\n",
       "\t<tr><td>1.0</td><td>0  </td><td>0  </td><td>0.0</td><td>0.0</td><td>0  </td><td>0  </td></tr>\n",
       "\t<tr><td>0.6</td><td>0  </td><td>0  </td><td>0.0</td><td>0.4</td><td>0  </td><td>0  </td></tr>\n",
       "\t<tr><td>0.8</td><td>0  </td><td>0  </td><td>0.2</td><td>0.0</td><td>0  </td><td>0  </td></tr>\n",
       "\t<tr><td>0.8</td><td>0  </td><td>0  </td><td>0.2</td><td>0.0</td><td>0  </td><td>0  </td></tr>\n",
       "\t<tr><td>1.0</td><td>0  </td><td>0  </td><td>0.0</td><td>0.0</td><td>0  </td><td>0  </td></tr>\n",
       "\t<tr><td>0.0</td><td>1  </td><td>0  </td><td>0.0</td><td>0.0</td><td>0  </td><td>0  </td></tr>\n",
       "\t<tr><td>0.0</td><td>1  </td><td>0  </td><td>0.0</td><td>0.0</td><td>0  </td><td>0  </td></tr>\n",
       "\t<tr><td>0.0</td><td>1  </td><td>0  </td><td>0.0</td><td>0.0</td><td>0  </td><td>0  </td></tr>\n",
       "\t<tr><td>0.0</td><td>1  </td><td>0  </td><td>0.0</td><td>0.0</td><td>0  </td><td>0  </td></tr>\n",
       "\t<tr><td>0.0</td><td>1  </td><td>0  </td><td>0.0</td><td>0.0</td><td>0  </td><td>0  </td></tr>\n",
       "\t<tr><td>0.0</td><td>1  </td><td>0  </td><td>0.0</td><td>0.0</td><td>0  </td><td>0  </td></tr>\n",
       "\t<tr><td>0.0</td><td>1  </td><td>0  </td><td>0.0</td><td>0.0</td><td>0  </td><td>0  </td></tr>\n",
       "\t<tr><td>0.0</td><td>1  </td><td>0  </td><td>0.0</td><td>0.0</td><td>0  </td><td>0  </td></tr>\n",
       "\t<tr><td>0.0</td><td>1  </td><td>0  </td><td>0.0</td><td>0.0</td><td>0  </td><td>0  </td></tr>\n",
       "\t<tr><td>0.0</td><td>1  </td><td>0  </td><td>0.0</td><td>0.0</td><td>0  </td><td>0  </td></tr>\n",
       "\t<tr><td>0.0</td><td>1  </td><td>0  </td><td>0.0</td><td>0.0</td><td>0  </td><td>0  </td></tr>\n",
       "\t<tr><td>⋮</td><td>⋮</td><td>⋮</td><td>⋮</td><td>⋮</td><td>⋮</td><td>⋮</td></tr>\n",
       "\t<tr><td>0.0</td><td>0.2</td><td>0.2</td><td>0  </td><td>0.6</td><td>0.0</td><td>0.0</td></tr>\n",
       "\t<tr><td>0.0</td><td>0.0</td><td>0.0</td><td>0  </td><td>1.0</td><td>0.0</td><td>0.0</td></tr>\n",
       "\t<tr><td>0.0</td><td>0.0</td><td>0.0</td><td>0  </td><td>1.0</td><td>0.0</td><td>0.0</td></tr>\n",
       "\t<tr><td>0.0</td><td>0.0</td><td>0.0</td><td>0  </td><td>1.0</td><td>0.0</td><td>0.0</td></tr>\n",
       "\t<tr><td>0.0</td><td>0.0</td><td>0.0</td><td>0  </td><td>1.0</td><td>0.0</td><td>0.0</td></tr>\n",
       "\t<tr><td>0.0</td><td>0.0</td><td>0.0</td><td>0  </td><td>1.0</td><td>0.0</td><td>0.0</td></tr>\n",
       "\t<tr><td>0.0</td><td>0.0</td><td>0.0</td><td>0  </td><td>1.0</td><td>0.0</td><td>0.0</td></tr>\n",
       "\t<tr><td>0.0</td><td>0.0</td><td>0.0</td><td>0  </td><td>1.0</td><td>0.0</td><td>0.0</td></tr>\n",
       "\t<tr><td>0.0</td><td>0.0</td><td>0.0</td><td>0  </td><td>1.0</td><td>0.0</td><td>0.0</td></tr>\n",
       "\t<tr><td>0.0</td><td>0.0</td><td>0.0</td><td>0  </td><td>1.0</td><td>0.0</td><td>0.0</td></tr>\n",
       "\t<tr><td>0.0</td><td>0.0</td><td>0.0</td><td>0  </td><td>1.0</td><td>0.0</td><td>0.0</td></tr>\n",
       "\t<tr><td>0.0</td><td>0.0</td><td>0.0</td><td>0  </td><td>1.0</td><td>0.0</td><td>0.0</td></tr>\n",
       "\t<tr><td>0.0</td><td>0.0</td><td>0.2</td><td>0  </td><td>0.8</td><td>0.0</td><td>0.0</td></tr>\n",
       "\t<tr><td>0.0</td><td>0.0</td><td>0.0</td><td>0  </td><td>1.0</td><td>0.0</td><td>0.0</td></tr>\n",
       "\t<tr><td>0.0</td><td>0.0</td><td>0.0</td><td>0  </td><td>0.0</td><td>1.0</td><td>0.0</td></tr>\n",
       "\t<tr><td>0.0</td><td>0.0</td><td>0.0</td><td>0  </td><td>0.0</td><td>1.0</td><td>0.0</td></tr>\n",
       "\t<tr><td>0.0</td><td>0.0</td><td>0.0</td><td>0  </td><td>0.0</td><td>1.0</td><td>0.0</td></tr>\n",
       "\t<tr><td>0.0</td><td>0.0</td><td>0.0</td><td>0  </td><td>0.0</td><td>1.0</td><td>0.0</td></tr>\n",
       "\t<tr><td>0.2</td><td>0.0</td><td>0.0</td><td>0  </td><td>0.4</td><td>0.4</td><td>0.0</td></tr>\n",
       "\t<tr><td>0.2</td><td>0.0</td><td>0.0</td><td>0  </td><td>0.4</td><td>0.4</td><td>0.0</td></tr>\n",
       "\t<tr><td>0.0</td><td>0.0</td><td>0.0</td><td>0  </td><td>0.0</td><td>1.0</td><td>0.0</td></tr>\n",
       "\t<tr><td>0.0</td><td>0.0</td><td>0.0</td><td>0  </td><td>0.0</td><td>1.0</td><td>0.0</td></tr>\n",
       "\t<tr><td>0.0</td><td>0.0</td><td>0.0</td><td>0  </td><td>0.0</td><td>1.0</td><td>0.0</td></tr>\n",
       "\t<tr><td>0.0</td><td>0.0</td><td>0.0</td><td>0  </td><td>0.0</td><td>1.0</td><td>0.0</td></tr>\n",
       "\t<tr><td>0.0</td><td>0.0</td><td>0.0</td><td>0  </td><td>0.0</td><td>1.0</td><td>0.0</td></tr>\n",
       "\t<tr><td>0.0</td><td>0.0</td><td>0.0</td><td>0  </td><td>0.0</td><td>1.0</td><td>0.0</td></tr>\n",
       "\t<tr><td>0.0</td><td>0.0</td><td>0.0</td><td>0  </td><td>0.0</td><td>1.0</td><td>0.0</td></tr>\n",
       "\t<tr><td>0.0</td><td>0.4</td><td>0.0</td><td>0  </td><td>0.0</td><td>0.0</td><td>0.6</td></tr>\n",
       "\t<tr><td>0.0</td><td>0.4</td><td>0.0</td><td>0  </td><td>0.0</td><td>0.0</td><td>0.6</td></tr>\n",
       "\t<tr><td>0.0</td><td>0.4</td><td>0.0</td><td>0  </td><td>0.0</td><td>0.0</td><td>0.6</td></tr>\n",
       "</tbody>\n",
       "</table>\n"
      ],
      "text/latex": [
       "\\begin{tabular}{lllllll}\n",
       " cerebellum & colon & endometrium & hippocampus & kidney & liver & placenta\\\\\n",
       "\\hline\n",
       "\t 1.0 & 0   & 0   & 0.0 & 0.0 & 0   & 0  \\\\\n",
       "\t 1.0 & 0   & 0   & 0.0 & 0.0 & 0   & 0  \\\\\n",
       "\t 1.0 & 0   & 0   & 0.0 & 0.0 & 0   & 0  \\\\\n",
       "\t 1.0 & 0   & 0   & 0.0 & 0.0 & 0   & 0  \\\\\n",
       "\t 1.0 & 0   & 0   & 0.0 & 0.0 & 0   & 0  \\\\\n",
       "\t 1.0 & 0   & 0   & 0.0 & 0.0 & 0   & 0  \\\\\n",
       "\t 1.0 & 0   & 0   & 0.0 & 0.0 & 0   & 0  \\\\\n",
       "\t 1.0 & 0   & 0   & 0.0 & 0.0 & 0   & 0  \\\\\n",
       "\t 1.0 & 0   & 0   & 0.0 & 0.0 & 0   & 0  \\\\\n",
       "\t 1.0 & 0   & 0   & 0.0 & 0.0 & 0   & 0  \\\\\n",
       "\t 1.0 & 0   & 0   & 0.0 & 0.0 & 0   & 0  \\\\\n",
       "\t 1.0 & 0   & 0   & 0.0 & 0.0 & 0   & 0  \\\\\n",
       "\t 1.0 & 0   & 0   & 0.0 & 0.0 & 0   & 0  \\\\\n",
       "\t 1.0 & 0   & 0   & 0.0 & 0.0 & 0   & 0  \\\\\n",
       "\t 1.0 & 0   & 0   & 0.0 & 0.0 & 0   & 0  \\\\\n",
       "\t 0.6 & 0   & 0   & 0.0 & 0.4 & 0   & 0  \\\\\n",
       "\t 0.8 & 0   & 0   & 0.2 & 0.0 & 0   & 0  \\\\\n",
       "\t 0.8 & 0   & 0   & 0.2 & 0.0 & 0   & 0  \\\\\n",
       "\t 1.0 & 0   & 0   & 0.0 & 0.0 & 0   & 0  \\\\\n",
       "\t 0.0 & 1   & 0   & 0.0 & 0.0 & 0   & 0  \\\\\n",
       "\t 0.0 & 1   & 0   & 0.0 & 0.0 & 0   & 0  \\\\\n",
       "\t 0.0 & 1   & 0   & 0.0 & 0.0 & 0   & 0  \\\\\n",
       "\t 0.0 & 1   & 0   & 0.0 & 0.0 & 0   & 0  \\\\\n",
       "\t 0.0 & 1   & 0   & 0.0 & 0.0 & 0   & 0  \\\\\n",
       "\t 0.0 & 1   & 0   & 0.0 & 0.0 & 0   & 0  \\\\\n",
       "\t 0.0 & 1   & 0   & 0.0 & 0.0 & 0   & 0  \\\\\n",
       "\t 0.0 & 1   & 0   & 0.0 & 0.0 & 0   & 0  \\\\\n",
       "\t 0.0 & 1   & 0   & 0.0 & 0.0 & 0   & 0  \\\\\n",
       "\t 0.0 & 1   & 0   & 0.0 & 0.0 & 0   & 0  \\\\\n",
       "\t 0.0 & 1   & 0   & 0.0 & 0.0 & 0   & 0  \\\\\n",
       "\t ⋮ & ⋮ & ⋮ & ⋮ & ⋮ & ⋮ & ⋮\\\\\n",
       "\t 0.0 & 0.2 & 0.2 & 0   & 0.6 & 0.0 & 0.0\\\\\n",
       "\t 0.0 & 0.0 & 0.0 & 0   & 1.0 & 0.0 & 0.0\\\\\n",
       "\t 0.0 & 0.0 & 0.0 & 0   & 1.0 & 0.0 & 0.0\\\\\n",
       "\t 0.0 & 0.0 & 0.0 & 0   & 1.0 & 0.0 & 0.0\\\\\n",
       "\t 0.0 & 0.0 & 0.0 & 0   & 1.0 & 0.0 & 0.0\\\\\n",
       "\t 0.0 & 0.0 & 0.0 & 0   & 1.0 & 0.0 & 0.0\\\\\n",
       "\t 0.0 & 0.0 & 0.0 & 0   & 1.0 & 0.0 & 0.0\\\\\n",
       "\t 0.0 & 0.0 & 0.0 & 0   & 1.0 & 0.0 & 0.0\\\\\n",
       "\t 0.0 & 0.0 & 0.0 & 0   & 1.0 & 0.0 & 0.0\\\\\n",
       "\t 0.0 & 0.0 & 0.0 & 0   & 1.0 & 0.0 & 0.0\\\\\n",
       "\t 0.0 & 0.0 & 0.0 & 0   & 1.0 & 0.0 & 0.0\\\\\n",
       "\t 0.0 & 0.0 & 0.0 & 0   & 1.0 & 0.0 & 0.0\\\\\n",
       "\t 0.0 & 0.0 & 0.2 & 0   & 0.8 & 0.0 & 0.0\\\\\n",
       "\t 0.0 & 0.0 & 0.0 & 0   & 1.0 & 0.0 & 0.0\\\\\n",
       "\t 0.0 & 0.0 & 0.0 & 0   & 0.0 & 1.0 & 0.0\\\\\n",
       "\t 0.0 & 0.0 & 0.0 & 0   & 0.0 & 1.0 & 0.0\\\\\n",
       "\t 0.0 & 0.0 & 0.0 & 0   & 0.0 & 1.0 & 0.0\\\\\n",
       "\t 0.0 & 0.0 & 0.0 & 0   & 0.0 & 1.0 & 0.0\\\\\n",
       "\t 0.2 & 0.0 & 0.0 & 0   & 0.4 & 0.4 & 0.0\\\\\n",
       "\t 0.2 & 0.0 & 0.0 & 0   & 0.4 & 0.4 & 0.0\\\\\n",
       "\t 0.0 & 0.0 & 0.0 & 0   & 0.0 & 1.0 & 0.0\\\\\n",
       "\t 0.0 & 0.0 & 0.0 & 0   & 0.0 & 1.0 & 0.0\\\\\n",
       "\t 0.0 & 0.0 & 0.0 & 0   & 0.0 & 1.0 & 0.0\\\\\n",
       "\t 0.0 & 0.0 & 0.0 & 0   & 0.0 & 1.0 & 0.0\\\\\n",
       "\t 0.0 & 0.0 & 0.0 & 0   & 0.0 & 1.0 & 0.0\\\\\n",
       "\t 0.0 & 0.0 & 0.0 & 0   & 0.0 & 1.0 & 0.0\\\\\n",
       "\t 0.0 & 0.0 & 0.0 & 0   & 0.0 & 1.0 & 0.0\\\\\n",
       "\t 0.0 & 0.4 & 0.0 & 0   & 0.0 & 0.0 & 0.6\\\\\n",
       "\t 0.0 & 0.4 & 0.0 & 0   & 0.0 & 0.0 & 0.6\\\\\n",
       "\t 0.0 & 0.4 & 0.0 & 0   & 0.0 & 0.0 & 0.6\\\\\n",
       "\\end{tabular}\n"
      ],
      "text/markdown": [
       "\n",
       "cerebellum | colon | endometrium | hippocampus | kidney | liver | placenta | \n",
       "|---|---|---|---|---|---|---|---|---|---|---|---|---|---|---|---|---|---|---|---|---|---|---|---|---|---|---|---|---|---|---|---|---|---|---|---|---|---|---|---|---|---|---|---|---|---|---|---|---|---|---|---|---|---|---|---|---|---|---|---|---|\n",
       "| 1.0 | 0   | 0   | 0.0 | 0.0 | 0   | 0   | \n",
       "| 1.0 | 0   | 0   | 0.0 | 0.0 | 0   | 0   | \n",
       "| 1.0 | 0   | 0   | 0.0 | 0.0 | 0   | 0   | \n",
       "| 1.0 | 0   | 0   | 0.0 | 0.0 | 0   | 0   | \n",
       "| 1.0 | 0   | 0   | 0.0 | 0.0 | 0   | 0   | \n",
       "| 1.0 | 0   | 0   | 0.0 | 0.0 | 0   | 0   | \n",
       "| 1.0 | 0   | 0   | 0.0 | 0.0 | 0   | 0   | \n",
       "| 1.0 | 0   | 0   | 0.0 | 0.0 | 0   | 0   | \n",
       "| 1.0 | 0   | 0   | 0.0 | 0.0 | 0   | 0   | \n",
       "| 1.0 | 0   | 0   | 0.0 | 0.0 | 0   | 0   | \n",
       "| 1.0 | 0   | 0   | 0.0 | 0.0 | 0   | 0   | \n",
       "| 1.0 | 0   | 0   | 0.0 | 0.0 | 0   | 0   | \n",
       "| 1.0 | 0   | 0   | 0.0 | 0.0 | 0   | 0   | \n",
       "| 1.0 | 0   | 0   | 0.0 | 0.0 | 0   | 0   | \n",
       "| 1.0 | 0   | 0   | 0.0 | 0.0 | 0   | 0   | \n",
       "| 0.6 | 0   | 0   | 0.0 | 0.4 | 0   | 0   | \n",
       "| 0.8 | 0   | 0   | 0.2 | 0.0 | 0   | 0   | \n",
       "| 0.8 | 0   | 0   | 0.2 | 0.0 | 0   | 0   | \n",
       "| 1.0 | 0   | 0   | 0.0 | 0.0 | 0   | 0   | \n",
       "| 0.0 | 1   | 0   | 0.0 | 0.0 | 0   | 0   | \n",
       "| 0.0 | 1   | 0   | 0.0 | 0.0 | 0   | 0   | \n",
       "| 0.0 | 1   | 0   | 0.0 | 0.0 | 0   | 0   | \n",
       "| 0.0 | 1   | 0   | 0.0 | 0.0 | 0   | 0   | \n",
       "| 0.0 | 1   | 0   | 0.0 | 0.0 | 0   | 0   | \n",
       "| 0.0 | 1   | 0   | 0.0 | 0.0 | 0   | 0   | \n",
       "| 0.0 | 1   | 0   | 0.0 | 0.0 | 0   | 0   | \n",
       "| 0.0 | 1   | 0   | 0.0 | 0.0 | 0   | 0   | \n",
       "| 0.0 | 1   | 0   | 0.0 | 0.0 | 0   | 0   | \n",
       "| 0.0 | 1   | 0   | 0.0 | 0.0 | 0   | 0   | \n",
       "| 0.0 | 1   | 0   | 0.0 | 0.0 | 0   | 0   | \n",
       "| ⋮ | ⋮ | ⋮ | ⋮ | ⋮ | ⋮ | ⋮ | \n",
       "| 0.0 | 0.2 | 0.2 | 0   | 0.6 | 0.0 | 0.0 | \n",
       "| 0.0 | 0.0 | 0.0 | 0   | 1.0 | 0.0 | 0.0 | \n",
       "| 0.0 | 0.0 | 0.0 | 0   | 1.0 | 0.0 | 0.0 | \n",
       "| 0.0 | 0.0 | 0.0 | 0   | 1.0 | 0.0 | 0.0 | \n",
       "| 0.0 | 0.0 | 0.0 | 0   | 1.0 | 0.0 | 0.0 | \n",
       "| 0.0 | 0.0 | 0.0 | 0   | 1.0 | 0.0 | 0.0 | \n",
       "| 0.0 | 0.0 | 0.0 | 0   | 1.0 | 0.0 | 0.0 | \n",
       "| 0.0 | 0.0 | 0.0 | 0   | 1.0 | 0.0 | 0.0 | \n",
       "| 0.0 | 0.0 | 0.0 | 0   | 1.0 | 0.0 | 0.0 | \n",
       "| 0.0 | 0.0 | 0.0 | 0   | 1.0 | 0.0 | 0.0 | \n",
       "| 0.0 | 0.0 | 0.0 | 0   | 1.0 | 0.0 | 0.0 | \n",
       "| 0.0 | 0.0 | 0.0 | 0   | 1.0 | 0.0 | 0.0 | \n",
       "| 0.0 | 0.0 | 0.2 | 0   | 0.8 | 0.0 | 0.0 | \n",
       "| 0.0 | 0.0 | 0.0 | 0   | 1.0 | 0.0 | 0.0 | \n",
       "| 0.0 | 0.0 | 0.0 | 0   | 0.0 | 1.0 | 0.0 | \n",
       "| 0.0 | 0.0 | 0.0 | 0   | 0.0 | 1.0 | 0.0 | \n",
       "| 0.0 | 0.0 | 0.0 | 0   | 0.0 | 1.0 | 0.0 | \n",
       "| 0.0 | 0.0 | 0.0 | 0   | 0.0 | 1.0 | 0.0 | \n",
       "| 0.2 | 0.0 | 0.0 | 0   | 0.4 | 0.4 | 0.0 | \n",
       "| 0.2 | 0.0 | 0.0 | 0   | 0.4 | 0.4 | 0.0 | \n",
       "| 0.0 | 0.0 | 0.0 | 0   | 0.0 | 1.0 | 0.0 | \n",
       "| 0.0 | 0.0 | 0.0 | 0   | 0.0 | 1.0 | 0.0 | \n",
       "| 0.0 | 0.0 | 0.0 | 0   | 0.0 | 1.0 | 0.0 | \n",
       "| 0.0 | 0.0 | 0.0 | 0   | 0.0 | 1.0 | 0.0 | \n",
       "| 0.0 | 0.0 | 0.0 | 0   | 0.0 | 1.0 | 0.0 | \n",
       "| 0.0 | 0.0 | 0.0 | 0   | 0.0 | 1.0 | 0.0 | \n",
       "| 0.0 | 0.0 | 0.0 | 0   | 0.0 | 1.0 | 0.0 | \n",
       "| 0.0 | 0.4 | 0.0 | 0   | 0.0 | 0.0 | 0.6 | \n",
       "| 0.0 | 0.4 | 0.0 | 0   | 0.0 | 0.0 | 0.6 | \n",
       "| 0.0 | 0.4 | 0.0 | 0   | 0.0 | 0.0 | 0.6 | \n",
       "\n",
       "\n"
      ],
      "text/plain": [
       "      cerebellum colon endometrium hippocampus kidney liver placenta\n",
       " [1,] 1.0        0     0           0.0         0.0    0     0       \n",
       " [2,] 1.0        0     0           0.0         0.0    0     0       \n",
       " [3,] 1.0        0     0           0.0         0.0    0     0       \n",
       " [4,] 1.0        0     0           0.0         0.0    0     0       \n",
       " [5,] 1.0        0     0           0.0         0.0    0     0       \n",
       " [6,] 1.0        0     0           0.0         0.0    0     0       \n",
       " [7,] 1.0        0     0           0.0         0.0    0     0       \n",
       " [8,] 1.0        0     0           0.0         0.0    0     0       \n",
       " [9,] 1.0        0     0           0.0         0.0    0     0       \n",
       "[10,] 1.0        0     0           0.0         0.0    0     0       \n",
       "[11,] 1.0        0     0           0.0         0.0    0     0       \n",
       "[12,] 1.0        0     0           0.0         0.0    0     0       \n",
       "[13,] 1.0        0     0           0.0         0.0    0     0       \n",
       "[14,] 1.0        0     0           0.0         0.0    0     0       \n",
       "[15,] 1.0        0     0           0.0         0.0    0     0       \n",
       "[16,] 0.6        0     0           0.0         0.4    0     0       \n",
       "[17,] 0.8        0     0           0.2         0.0    0     0       \n",
       "[18,] 0.8        0     0           0.2         0.0    0     0       \n",
       "[19,] 1.0        0     0           0.0         0.0    0     0       \n",
       "[20,] 0.0        1     0           0.0         0.0    0     0       \n",
       "[21,] 0.0        1     0           0.0         0.0    0     0       \n",
       "[22,] 0.0        1     0           0.0         0.0    0     0       \n",
       "[23,] 0.0        1     0           0.0         0.0    0     0       \n",
       "[24,] 0.0        1     0           0.0         0.0    0     0       \n",
       "[25,] 0.0        1     0           0.0         0.0    0     0       \n",
       "[26,] 0.0        1     0           0.0         0.0    0     0       \n",
       "[27,] 0.0        1     0           0.0         0.0    0     0       \n",
       "[28,] 0.0        1     0           0.0         0.0    0     0       \n",
       "[29,] 0.0        1     0           0.0         0.0    0     0       \n",
       "[30,] 0.0        1     0           0.0         0.0    0     0       \n",
       "[31,] ⋮          ⋮     ⋮           ⋮           ⋮      ⋮     ⋮       \n",
       "[32,] 0.0        0.2   0.2         0           0.6    0.0   0.0     \n",
       "[33,] 0.0        0.0   0.0         0           1.0    0.0   0.0     \n",
       "[34,] 0.0        0.0   0.0         0           1.0    0.0   0.0     \n",
       "[35,] 0.0        0.0   0.0         0           1.0    0.0   0.0     \n",
       "[36,] 0.0        0.0   0.0         0           1.0    0.0   0.0     \n",
       "[37,] 0.0        0.0   0.0         0           1.0    0.0   0.0     \n",
       "[38,] 0.0        0.0   0.0         0           1.0    0.0   0.0     \n",
       "[39,] 0.0        0.0   0.0         0           1.0    0.0   0.0     \n",
       "[40,] 0.0        0.0   0.0         0           1.0    0.0   0.0     \n",
       "[41,] 0.0        0.0   0.0         0           1.0    0.0   0.0     \n",
       "[42,] 0.0        0.0   0.0         0           1.0    0.0   0.0     \n",
       "[43,] 0.0        0.0   0.0         0           1.0    0.0   0.0     \n",
       "[44,] 0.0        0.0   0.2         0           0.8    0.0   0.0     \n",
       "[45,] 0.0        0.0   0.0         0           1.0    0.0   0.0     \n",
       "[46,] 0.0        0.0   0.0         0           0.0    1.0   0.0     \n",
       "[47,] 0.0        0.0   0.0         0           0.0    1.0   0.0     \n",
       "[48,] 0.0        0.0   0.0         0           0.0    1.0   0.0     \n",
       "[49,] 0.0        0.0   0.0         0           0.0    1.0   0.0     \n",
       "[50,] 0.2        0.0   0.0         0           0.4    0.4   0.0     \n",
       "[51,] 0.2        0.0   0.0         0           0.4    0.4   0.0     \n",
       "[52,] 0.0        0.0   0.0         0           0.0    1.0   0.0     \n",
       "[53,] 0.0        0.0   0.0         0           0.0    1.0   0.0     \n",
       "[54,] 0.0        0.0   0.0         0           0.0    1.0   0.0     \n",
       "[55,] 0.0        0.0   0.0         0           0.0    1.0   0.0     \n",
       "[56,] 0.0        0.0   0.0         0           0.0    1.0   0.0     \n",
       "[57,] 0.0        0.0   0.0         0           0.0    1.0   0.0     \n",
       "[58,] 0.0        0.0   0.0         0           0.0    1.0   0.0     \n",
       "[59,] 0.0        0.4   0.0         0           0.0    0.0   0.6     \n",
       "[60,] 0.0        0.4   0.0         0           0.0    0.0   0.6     \n",
       "[61,] 0.0        0.4   0.0         0           0.0    0.0   0.6     "
      ]
     },
     "metadata": {},
     "output_type": "display_data"
    }
   ],
   "source": [
    "accuracy <- sapply(ks, function(k){\n",
    "\n",
    "fit <- knn3(x, y, data = train_set_x, k = k)\n",
    "\n",
    "y_hat <- predict(fit, train_set_x, type = \"class\") %>% factor(levels = levels(train_set_y))\n",
    "\n",
    "confusionMatrix(data = y_hat, reference = test_set_y)\\)overall[\"Accuracy\"] })"
   ]
  },
  {
   "cell_type": "code",
   "execution_count": 52,
   "metadata": {},
   "outputs": [
    {
     "data": {
      "text/html": [
       "<ol class=list-inline>\n",
       "\t<li>93</li>\n",
       "\t<li>7</li>\n",
       "</ol>\n"
      ],
      "text/latex": [
       "\\begin{enumerate*}\n",
       "\\item 93\n",
       "\\item 7\n",
       "\\end{enumerate*}\n"
      ],
      "text/markdown": [
       "1. 93\n",
       "2. 7\n",
       "\n",
       "\n"
      ],
      "text/plain": [
       "[1] 93  7"
      ]
     },
     "metadata": {},
     "output_type": "display_data"
    },
    {
     "data": {
      "text/html": [
       "<ol class=list-inline>\n",
       "\t<li>93</li>\n",
       "\t<li>1</li>\n",
       "</ol>\n"
      ],
      "text/latex": [
       "\\begin{enumerate*}\n",
       "\\item 93\n",
       "\\item 1\n",
       "\\end{enumerate*}\n"
      ],
      "text/markdown": [
       "1. 93\n",
       "2. 1\n",
       "\n",
       "\n"
      ],
      "text/plain": [
       "[1] 93  1"
      ]
     },
     "metadata": {},
     "output_type": "display_data"
    },
    {
     "data": {
      "text/html": [
       "<ol class=list-inline>\n",
       "\t<li>93</li>\n",
       "\t<li>500</li>\n",
       "</ol>\n"
      ],
      "text/latex": [
       "\\begin{enumerate*}\n",
       "\\item 93\n",
       "\\item 500\n",
       "\\end{enumerate*}\n"
      ],
      "text/markdown": [
       "1. 93\n",
       "2. 500\n",
       "\n",
       "\n"
      ],
      "text/plain": [
       "[1]  93 500"
      ]
     },
     "metadata": {},
     "output_type": "display_data"
    }
   ],
   "source": [
    "dim(y_hat)\n",
    "dim(as.matrix(test_set_y))\n",
    "dim(test_set_x)"
   ]
  },
  {
   "cell_type": "code",
   "execution_count": 7,
   "metadata": {},
   "outputs": [
    {
     "ename": "ERROR",
     "evalue": "Error in tissue_gene_expression[test_index, ]: incorrect number of dimensions\n",
     "output_type": "error",
     "traceback": [
      "Error in tissue_gene_expression[test_index, ]: incorrect number of dimensions\nTraceback:\n"
     ]
    }
   ],
   "source": [
    "set.seed(1)\n",
    "test_index <- createDataPartition(tissue_gene_expression$y, times = 1, p = 0.5, list = FALSE)\n",
    "\n",
    "test_set <- tissue_gene_expression[test_index, ]\n",
    "train_set <- tissue_gene_expression[-test_index, ]"
   ]
  },
  {
   "cell_type": "code",
   "execution_count": 15,
   "metadata": {},
   "outputs": [],
   "source": []
  },
  {
   "cell_type": "code",
   "execution_count": 19,
   "metadata": {},
   "outputs": [
    {
     "data": {
      "text/plain": [
       "  Length Class  Mode   \n",
       "x 94500  -none- numeric\n",
       "y   189  factor numeric"
      ]
     },
     "metadata": {},
     "output_type": "display_data"
    }
   ],
   "source": [
    "summary(tissue_gene_expression)"
   ]
  },
  {
   "cell_type": "code",
   "execution_count": 20,
   "metadata": {},
   "outputs": [
    {
     "data": {
      "text/plain": [
       "\n",
       " cerebellum       colon endometrium hippocampus      kidney       liver \n",
       "         38          34          15          31          39          26 \n",
       "   placenta \n",
       "          6 "
      ]
     },
     "metadata": {},
     "output_type": "display_data"
    }
   ],
   "source": [
    "table(tissue_gene_expression$y)"
   ]
  },
  {
   "cell_type": "code",
   "execution_count": 24,
   "metadata": {},
   "outputs": [
    {
     "data": {
      "text/html": [
       "<ol class=list-inline>\n",
       "\t<li>189</li>\n",
       "\t<li>500</li>\n",
       "</ol>\n"
      ],
      "text/latex": [
       "\\begin{enumerate*}\n",
       "\\item 189\n",
       "\\item 500\n",
       "\\end{enumerate*}\n"
      ],
      "text/markdown": [
       "1. 189\n",
       "2. 500\n",
       "\n",
       "\n"
      ],
      "text/plain": [
       "[1] 189 500"
      ]
     },
     "metadata": {},
     "output_type": "display_data"
    },
    {
     "data": {
      "text/html": [
       "<ol class=list-inline>\n",
       "\t<li>189</li>\n",
       "\t<li>1</li>\n",
       "</ol>\n"
      ],
      "text/latex": [
       "\\begin{enumerate*}\n",
       "\\item 189\n",
       "\\item 1\n",
       "\\end{enumerate*}\n"
      ],
      "text/markdown": [
       "1. 189\n",
       "2. 1\n",
       "\n",
       "\n"
      ],
      "text/plain": [
       "[1] 189   1"
      ]
     },
     "metadata": {},
     "output_type": "display_data"
    }
   ],
   "source": [
    "dim(tissue_gene_expression$x)\n",
    "dim(as.matrix(tissue_gene_expression$y))"
   ]
  },
  {
   "cell_type": "code",
   "execution_count": 25,
   "metadata": {},
   "outputs": [],
   "source": [
    "fit <- "
   ]
  },
  {
   "cell_type": "code",
   "execution_count": 26,
   "metadata": {},
   "outputs": [],
   "source": [
    "data(\"mnist_27\")"
   ]
  },
  {
   "cell_type": "code",
   "execution_count": 30,
   "metadata": {},
   "outputs": [
    {
     "data": {
      "text/plain": [
       "Length  Class   Mode \n",
       "     0   NULL   NULL "
      ]
     },
     "metadata": {},
     "output_type": "display_data"
    }
   ],
   "source": [
    "summary(mnist_27$x_1)"
   ]
  },
  {
   "cell_type": "code",
   "execution_count": 34,
   "metadata": {},
   "outputs": [],
   "source": [
    "?knn3"
   ]
  },
  {
   "cell_type": "code",
   "execution_count": 56,
   "metadata": {},
   "outputs": [
    {
     "name": "stderr",
     "output_type": "stream",
     "text": [
      "\n",
      "Attaching package: ‘dplyr’\n",
      "\n",
      "The following objects are masked from ‘package:stats’:\n",
      "\n",
      "    filter, lag\n",
      "\n",
      "The following objects are masked from ‘package:base’:\n",
      "\n",
      "    intersect, setdiff, setequal, union\n",
      "\n"
     ]
    },
    {
     "data": {},
     "metadata": {},
     "output_type": "display_data"
    },
    {
     "data": {
      "image/png": "[encoded data removed]",
      "text/plain": [
       "plot without title"
      ]
     },
     "metadata": {},
     "output_type": "display_data"
    }
   ],
   "source": [
    "library(dplyr)\n",
    "data(\"mnist_27\")\n",
    "mnist_27$test%>% ggplot(aes(x_1, x_2, color = y)) +\n",
    "  geom_point()"
   ]
  },
  {
   "cell_type": "code",
   "execution_count": 57,
   "metadata": {},
   "outputs": [],
   "source": [
    "?confusionMatrix"
   ]
  },
  {
   "cell_type": "code",
   "execution_count": 70,
   "metadata": {},
   "outputs": [
    {
     "ename": "ERROR",
     "evalue": "Error: package e1071 is required\n",
     "output_type": "error",
     "traceback": [
      "Error: package e1071 is required\nTraceback:\n",
      "1. confusionMatrix(data = y_hat_logistic, reference = mnist_27$test$y)",
      "2. confusionMatrix.default(data = y_hat_logistic, reference = mnist_27$test$y)",
      "3. getFromNamespace(\"confusionMatrix.table\", \"caret\")(classTable, \n .     positive, prevalence = prevalence, mode = mode)",
      "4. requireNamespaceQuietStop(\"e1071\")",
      "5. stop(paste(\"package\", package, \"is required\"), call. = FALSE)"
     ]
    }
   ],
   "source": [
    "library(caret)\n",
    "fit_glm <- glm(y ~ x_1 + x_2, data=mnist_27$train, family=\"binomial\")\n",
    "p_hat_logistic <- predict(fit_glm, mnist_27$test)\n",
    "y_hat_logistic <- factor(ifelse(p_hat_logistic > 0.5, 7, 2))\n",
    "confusionMatrix(data = y_hat_logistic, reference = mnist_27$test$y)"
   ]
  },
  {
   "cell_type": "code",
   "execution_count": 60,
   "metadata": {},
   "outputs": [
    {
     "name": "stderr",
     "output_type": "stream",
     "text": [
      "Warning message in install.packages(\"e1071\"):\n",
      "“installation of package ‘e1071’ had non-zero exit status”Updating HTML index of packages in '.Library'\n",
      "Making 'packages.html' ... done\n"
     ]
    }
   ],
   "source": [
    "install.packages(\"e1071\")"
   ]
  },
  {
   "cell_type": "code",
   "execution_count": null,
   "metadata": {},
   "outputs": [],
   "source": []
  }
 ],
 "metadata": {
  "kernelspec": {
   "display_name": "R",
   "language": "R",
   "name": "ir"
  },
  "language_info": {
   "codemirror_mode": "r",
   "file_extension": ".r",
   "mimetype": "text/x-r-source",
   "name": "R",
   "pygments_lexer": "r",
   "version": "3.4.3"
  }
 },
 "nbformat": 4,
 "nbformat_minor": 2
}
